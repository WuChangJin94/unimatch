{
 "cells": [
  {
   "cell_type": "code",
   "execution_count": 3,
   "metadata": {
    "colab": {
     "base_uri": "https://localhost:8080/"
    },
    "id": "Zj3mH_CY8s9x",
    "outputId": "10ef4222-d6e1-4fa9-cf85-33110b0f8b2d"
   },
   "outputs": [
    {
     "name": "stdout",
     "output_type": "stream",
     "text": [
      "PyTorch version: 2.3.0+cu118\n",
      "Running on GPU NVIDIA GeForce GTX 1080\n"
     ]
    }
   ],
   "source": [
    "# check env\n",
    "import torch\n",
    "\n",
    "print('PyTorch version: %s' % torch.__version__)\n",
    "\n",
    "if not torch.cuda.is_available():\n",
    "  print('Running on CPU')\n",
    "else:\n",
    "  print('Running on GPU %s' % torch.cuda.get_device_name())"
   ]
  },
  {
   "cell_type": "code",
   "execution_count": 4,
   "metadata": {
    "id": "ABlla2TL5G_2"
   },
   "outputs": [],
   "source": [
    "# visualization utils\n",
    "import numpy as np\n",
    "import matplotlib.pyplot as plt\n",
    "from IPython.display import Image, display, HTML\n",
    "from base64 import b64encode\n",
    "\n",
    "plt.rcParams[\"figure.figsize\"] = (30, 5)\n",
    "\n",
    "def vis_img(img):\n",
    "  plt.imshow(img)\n",
    "  plt.axis(\"off\")\n",
    "  plt.show()\n",
    "\n",
    "def vis_video(video_path):\n",
    "  mp4 = open(video_path,'rb').read()\n",
    "  data_url = \"data:video/mp4;base64,\" + b64encode(mp4).decode()\n",
    "  return HTML(\"\"\"\n",
    "  <video width=600 controls>\n",
    "        <source src=\"%s\" type=\"video/mp4\">\n",
    "  </video>\n",
    "  \"\"\" % data_url)"
   ]
  },
  {
   "cell_type": "code",
   "execution_count": null,
   "metadata": {},
   "outputs": [
    {
     "name": "stdout",
     "output_type": "stream",
     "text": [
      "gmdepth-scale1-regrefine1-resumeflowthings-scannet-90325722.pth\n",
      "gmflow-scale2-regrefine6-kitti15-25b554d7.pth\n",
      "gmflow-scale2-regrefine6-mixdata-train320x576-4e7b215d.pth\n",
      "gmstereo-scale2-regrefine3-resumeflowthings-middleburyfthighres-a82bec03.pth\n"
     ]
    }
   ],
   "source": [
    "# check downloading\n",
    "%ls pretrained"
   ]
  },
  {
   "cell_type": "markdown",
   "metadata": {
    "id": "347p_H-L9KJ7"
   },
   "source": [
    "## Stereo Matching"
   ]
  },
  {
   "cell_type": "code",
   "execution_count": null,
   "metadata": {
    "colab": {
     "base_uri": "https://localhost:8080/"
    },
    "id": "Y0s-iS0C9L5n",
    "outputId": "4fc584af-0b8b-4c7d-de91-737dbc9c740c"
   },
   "outputs": [],
   "source": [
    "# inference on a stereo pair\n",
    "# script from: https://github.com/autonomousvision/unimatch/blob/master/scripts/gmstereo_demo.sh\n",
    "!python main_stereo.py \\\n",
    "--inference_dir demo/stereo-middlebury \\\n",
    "--inference_size 1024 1536 \\\n",
    "--output_path output/gmstereo-scale2-regrefine3-middlebury \\\n",
    "--resume pretrained/gmstereo-scale2-regrefine3-resumeflowthings-middleburyfthighres-a82bec03.pth \\\n",
    "--padding_factor 32 \\\n",
    "--upsample_factor 4 \\\n",
    "--num_scales 2 \\\n",
    "--attn_type self_swin2d_cross_swin1d \\\n",
    "--attn_splits_list 2 8 \\\n",
    "--corr_radius_list -1 4 \\\n",
    "--prop_radius_list -1 1 \\\n",
    "--reg_refine \\\n",
    "--num_reg_refine 3"
   ]
  },
  {
   "cell_type": "code",
   "execution_count": null,
   "metadata": {
    "colab": {
     "base_uri": "https://localhost:8080/",
     "height": 303
    },
    "id": "YejH62gdFL8r",
    "outputId": "dfef0cff-a7fa-442b-96fa-d51a9840041e"
   },
   "outputs": [],
   "source": [
    "# visualize image and disparity\n",
    "img0_path = 'demo/stereo-middlebury/im0.png'\n",
    "img1_path = 'demo/stereo-middlebury/im1.png'\n",
    "disp_path = 'output/gmstereo-scale2-regrefine3-middlebury/im0_disp.png'\n",
    "\n",
    "img0, img1, disp = plt.imread(img0_path), plt.imread(img1_path), plt.imread(disp_path)\n",
    "vis_img(np.concatenate([img0, img1, disp], axis=1))"
   ]
  }
 ],
 "metadata": {
  "accelerator": "GPU",
  "colab": {
   "provenance": []
  },
  "gpuClass": "standard",
  "kernelspec": {
   "display_name": "Python 3 (ipykernel)",
   "language": "python",
   "name": "python3"
  },
  "language_info": {
   "codemirror_mode": {
    "name": "ipython",
    "version": 3
   },
   "file_extension": ".py",
   "mimetype": "text/x-python",
   "name": "python",
   "nbconvert_exporter": "python",
   "pygments_lexer": "ipython3",
   "version": "3.8.10"
  }
 },
 "nbformat": 4,
 "nbformat_minor": 4
}
