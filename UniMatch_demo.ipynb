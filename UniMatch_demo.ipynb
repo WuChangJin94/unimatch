{
 "cells": [
  {
   "cell_type": "code",
   "execution_count": 1,
   "metadata": {
    "colab": {
     "base_uri": "https://localhost:8080/"
    },
    "id": "SdSyddUQ7wZP",
    "outputId": "56183cf5-27ca-449d-af55-0220ed032885"
   },
   "outputs": [
    {
     "name": "stdout",
     "output_type": "stream",
     "text": [
      "/home/changjin\n",
      "/home/changjin/unimatch\n"
     ]
    }
   ],
   "source": [
    "%cd\n",
    "%cd unimatch"
   ]
  },
  {
   "cell_type": "code",
   "execution_count": 2,
   "metadata": {
    "colab": {
     "base_uri": "https://localhost:8080/"
    },
    "id": "Zj3mH_CY8s9x",
    "outputId": "10ef4222-d6e1-4fa9-cf85-33110b0f8b2d"
   },
   "outputs": [
    {
     "name": "stdout",
     "output_type": "stream",
     "text": [
      "PyTorch version: 2.3.0+cu118\n",
      "Running on GPU NVIDIA GeForce GTX 1080\n"
     ]
    }
   ],
   "source": [
    "# check env\n",
    "import torch\n",
    "\n",
    "print('PyTorch version: %s' % torch.__version__)\n",
    "\n",
    "if not torch.cuda.is_available():\n",
    "  print('Running on CPU')\n",
    "else:\n",
    "  print('Running on GPU %s' % torch.cuda.get_device_name())"
   ]
  },
  {
   "cell_type": "markdown",
   "metadata": {
    "id": "UOUluSCq8_lr"
   },
   "source": [
    "# Download Model"
   ]
  },
  {
   "cell_type": "code",
   "execution_count": 3,
   "metadata": {
    "id": "HaswJZMq9B3c"
   },
   "outputs": [],
   "source": [
    "# we assume the downloaded model weights are located under the pretrained directory.\n",
    "!mkdir pretrained"
   ]
  },
  {
   "cell_type": "code",
   "execution_count": 4,
   "metadata": {
    "id": "jPHlSVw516ql"
   },
   "outputs": [
    {
     "name": "stdout",
     "output_type": "stream",
     "text": [
      "--2024-06-18 14:05:03--  https://s3.eu-central-1.amazonaws.com/avg-projects/unimatch/pretrained/gmflow-scale2-regrefine6-mixdata-train320x576-4e7b215d.pth\n",
      "Resolving s3.eu-central-1.amazonaws.com (s3.eu-central-1.amazonaws.com)... 52.219.169.181, 52.219.169.157, 3.5.135.17, ...\n",
      "Connecting to s3.eu-central-1.amazonaws.com (s3.eu-central-1.amazonaws.com)|52.219.169.181|:443... connected.\n",
      "HTTP request sent, awaiting response... 200 OK\n",
      "Length: 29500177 (28M) [binary/octet-stream]\n",
      "Saving to: ‘pretrained/gmflow-scale2-regrefine6-mixdata-train320x576-4e7b215d.pth’\n",
      "\n",
      "gmflow-scale2-regre 100%[===================>]  28.13M  2.14MB/s    in 21s     \n",
      "\n",
      "2024-06-18 14:05:25 (1.35 MB/s) - ‘pretrained/gmflow-scale2-regrefine6-mixdata-train320x576-4e7b215d.pth’ saved [29500177/29500177]\n",
      "\n",
      "--2024-06-18 14:05:26--  https://s3.eu-central-1.amazonaws.com/avg-projects/unimatch/pretrained/gmflow-scale2-regrefine6-kitti15-25b554d7.pth\n",
      "Resolving s3.eu-central-1.amazonaws.com (s3.eu-central-1.amazonaws.com)... 3.5.134.197, 52.219.170.157, 3.5.136.242, ...\n",
      "Connecting to s3.eu-central-1.amazonaws.com (s3.eu-central-1.amazonaws.com)|3.5.134.197|:443... connected.\n",
      "HTTP request sent, awaiting response... 200 OK\n",
      "Length: 29500177 (28M) [binary/octet-stream]\n",
      "Saving to: ‘pretrained/gmflow-scale2-regrefine6-kitti15-25b554d7.pth’\n",
      "\n",
      "gmflow-scale2-regre 100%[===================>]  28.13M  1.83MB/s    in 26s     \n",
      "\n",
      "2024-06-18 14:05:53 (1.08 MB/s) - ‘pretrained/gmflow-scale2-regrefine6-kitti15-25b554d7.pth’ saved [29500177/29500177]\n",
      "\n",
      "--2024-06-18 14:05:54--  https://s3.eu-central-1.amazonaws.com/avg-projects/unimatch/pretrained/gmstereo-scale2-regrefine3-resumeflowthings-middleburyfthighres-a82bec03.pth\n",
      "Resolving s3.eu-central-1.amazonaws.com (s3.eu-central-1.amazonaws.com)... 52.219.170.189, 3.5.137.71, 52.219.169.101, ...\n",
      "Connecting to s3.eu-central-1.amazonaws.com (s3.eu-central-1.amazonaws.com)|52.219.170.189|:443... connected.\n",
      "HTTP request sent, awaiting response... 200 OK\n",
      "Length: 29475089 (28M) [binary/octet-stream]\n",
      "Saving to: ‘pretrained/gmstereo-scale2-regrefine3-resumeflowthings-middleburyfthighres-a82bec03.pth’\n",
      "\n",
      "gmstereo-scale2-reg 100%[===================>]  28.11M  2.01MB/s    in 29s     \n",
      "\n",
      "2024-06-18 14:06:24 (1010 KB/s) - ‘pretrained/gmstereo-scale2-regrefine3-resumeflowthings-middleburyfthighres-a82bec03.pth’ saved [29475089/29475089]\n",
      "\n",
      "--2024-06-18 14:06:24--  https://s3.eu-central-1.amazonaws.com/avg-projects/unimatch/pretrained/gmdepth-scale1-regrefine1-resumeflowthings-scannet-90325722.pth\n",
      "Resolving s3.eu-central-1.amazonaws.com (s3.eu-central-1.amazonaws.com)... 52.219.208.29, 52.219.170.105, 52.219.72.207, ...\n",
      "Connecting to s3.eu-central-1.amazonaws.com (s3.eu-central-1.amazonaws.com)|52.219.208.29|:443... connected.\n",
      "HTTP request sent, awaiting response... 200 OK\n",
      "Length: 29347411 (28M) [binary/octet-stream]\n",
      "Saving to: ‘pretrained/gmdepth-scale1-regrefine1-resumeflowthings-scannet-90325722.pth’\n",
      "\n",
      "gmdepth-scale1-regr 100%[===================>]  27.99M  2.90MB/s    in 19s     \n",
      "\n",
      "2024-06-18 14:06:45 (1.49 MB/s) - ‘pretrained/gmdepth-scale1-regrefine1-resumeflowthings-scannet-90325722.pth’ saved [29347411/29347411]\n",
      "\n"
     ]
    }
   ],
   "source": [
    "# we provide a large number of model weights with different speed-accuracy trade-off trained on different datasets for downloading:\n",
    "# https://github.com/autonomousvision/unimatch/blob/master/MODEL_ZOO.md\n",
    "# download example weights for flow, stereo and depth\n",
    "!wget -P pretrained https://s3.eu-central-1.amazonaws.com/avg-projects/unimatch/pretrained/gmflow-scale2-regrefine6-mixdata-train320x576-4e7b215d.pth\n",
    "!wget -P pretrained https://s3.eu-central-1.amazonaws.com/avg-projects/unimatch/pretrained/gmflow-scale2-regrefine6-kitti15-25b554d7.pth\n",
    "!wget -P pretrained https://s3.eu-central-1.amazonaws.com/avg-projects/unimatch/pretrained/gmstereo-scale2-regrefine3-resumeflowthings-middleburyfthighres-a82bec03.pth\n",
    "!wget -P pretrained https://s3.eu-central-1.amazonaws.com/avg-projects/unimatch/pretrained/gmdepth-scale1-regrefine1-resumeflowthings-scannet-90325722.pth"
   ]
  },
  {
   "cell_type": "code",
   "execution_count": 5,
   "metadata": {
    "colab": {
     "base_uri": "https://localhost:8080/"
    },
    "id": "r33bN90l3Kl5",
    "outputId": "f04dd89b-ff9e-45a0-cce0-dc7d22cfa43c"
   },
   "outputs": [
    {
     "name": "stdout",
     "output_type": "stream",
     "text": [
      "gmdepth-scale1-regrefine1-resumeflowthings-scannet-90325722.pth\n",
      "gmflow-scale2-regrefine6-kitti15-25b554d7.pth\n",
      "gmflow-scale2-regrefine6-mixdata-train320x576-4e7b215d.pth\n",
      "gmstereo-scale2-regrefine3-resumeflowthings-middleburyfthighres-a82bec03.pth\n"
     ]
    }
   ],
   "source": [
    "# check downloading\n",
    "%ls pretrained"
   ]
  },
  {
   "cell_type": "markdown",
   "metadata": {
    "id": "7Pqxq76Q9CqH"
   },
   "source": [
    "# Demo"
   ]
  },
  {
   "cell_type": "code",
   "execution_count": null,
   "metadata": {
    "id": "ABlla2TL5G_2"
   },
   "outputs": [],
   "source": [
    "# visualization utils\n",
    "import numpy as np\n",
    "import matplotlib.pyplot as plt\n",
    "from IPython.display import Image, display, HTML\n",
    "from base64 import b64encode\n",
    "\n",
    "plt.rcParams[\"figure.figsize\"] = (30, 5)\n",
    "\n",
    "def vis_img(img):\n",
    "  plt.imshow(img)\n",
    "  plt.axis(\"off\")\n",
    "  plt.show()\n",
    "\n",
    "def vis_video(video_path):\n",
    "  mp4 = open(video_path,'rb').read()\n",
    "  data_url = \"data:video/mp4;base64,\" + b64encode(mp4).decode()\n",
    "  return HTML(\"\"\"\n",
    "  <video width=600 controls>\n",
    "        <source src=\"%s\" type=\"video/mp4\">\n",
    "  </video>\n",
    "  \"\"\" % data_url)"
   ]
  },
  {
   "cell_type": "markdown",
   "metadata": {
    "id": "SLhfzVDI9HCa"
   },
   "source": [
    "## Optical Flow"
   ]
  },
  {
   "cell_type": "code",
   "execution_count": null,
   "metadata": {
    "colab": {
     "base_uri": "https://localhost:8080/"
    },
    "id": "KNrACqel9GLA",
    "outputId": "5daa1ebd-97ca-4445-926e-416ca4839896"
   },
   "outputs": [],
   "source": [
    "# inference on image dir\n",
    "# script from: https://github.com/autonomousvision/unimatch/blob/master/scripts/gmflow_demo.sh\n",
    "!python main_flow.py \\\n",
    "--inference_dir demo/flow-davis \\\n",
    "--resume pretrained/gmflow-scale2-regrefine6-mixdata-train320x576-4e7b215d.pth \\\n",
    "--output_path output/gmflow-scale2-regrefine6-davis \\\n",
    "--padding_factor 32 \\\n",
    "--upsample_factor 4 \\\n",
    "--num_scales 2 \\\n",
    "--attn_splits_list 2 8 \\\n",
    "--corr_radius_list -1 4 \\\n",
    "--prop_radius_list -1 1 \\\n",
    "--reg_refine \\\n",
    "--num_reg_refine 6"
   ]
  },
  {
   "cell_type": "code",
   "execution_count": null,
   "metadata": {
    "colab": {
     "base_uri": "https://localhost:8080/",
     "height": 293
    },
    "id": "RMpU9nAX4rZM",
    "outputId": "6359100e-b2ef-41a3-8c70-ea76bf3c522f"
   },
   "outputs": [],
   "source": [
    "# visualize image and flow\n",
    "img0_path = 'demo/flow-davis/00000.jpg'\n",
    "img1_path = 'demo/flow-davis/00001.jpg'\n",
    "flow_path = 'output/gmflow-scale2-regrefine6-davis/00000_flow.png'\n",
    "\n",
    "img0, img1, flow = plt.imread(img0_path), plt.imread(img1_path), plt.imread(flow_path)\n",
    "vis_img(np.concatenate([img0 / 255., img1 / 255., flow], axis=1))"
   ]
  },
  {
   "cell_type": "code",
   "execution_count": null,
   "metadata": {
    "colab": {
     "base_uri": "https://localhost:8080/"
    },
    "id": "6t6Efvbi-Lgd",
    "outputId": "dd9a910e-04fa-432b-f6da-8e781d1877b1"
   },
   "outputs": [],
   "source": [
    "# inference on video\n",
    "# script from: https://github.com/autonomousvision/unimatch/blob/master/scripts/gmflow_demo.sh\n",
    "!python3 main_flow.py \\\n",
    "--inference_video \"demo/WAM_V.mp4\" \\\n",
    "--resume pretrained/gmflow-scale2-regrefine6-kitti15-25b554d7.pth \\\n",
    "--output_path \"demo/output/WAM_V\" \\\n",
    "--padding_factor 32 \\\n",
    "--upsample_factor 4 \\\n",
    "--num_scales 2 \\\n",
    "--attn_splits_list 2 8 \\\n",
    "--corr_radius_list -1 4 \\\n",
    "--prop_radius_list -1 1 \\\n",
    "--reg_refine \\\n",
    "--num_reg_refine 6 \\\n",
    "--save_video \\\n",
    "--concat_flow_img"
   ]
  },
  {
   "cell_type": "code",
   "execution_count": null,
   "metadata": {},
   "outputs": [],
   "source": [
    "# visualize video\n",
    "video_path = \"demo/output/WAM_V/WAM_V_flow_img.mp4\"\n",
    "vis_video(video_path)"
   ]
  },
  {
   "cell_type": "markdown",
   "metadata": {
    "id": "347p_H-L9KJ7"
   },
   "source": [
    "## Stereo Matching"
   ]
  },
  {
   "cell_type": "code",
   "execution_count": null,
   "metadata": {
    "colab": {
     "base_uri": "https://localhost:8080/"
    },
    "id": "Y0s-iS0C9L5n",
    "outputId": "4fc584af-0b8b-4c7d-de91-737dbc9c740c"
   },
   "outputs": [],
   "source": [
    "# inference on a stereo pair\n",
    "# script from: https://github.com/autonomousvision/unimatch/blob/master/scripts/gmstereo_demo.sh\n",
    "!python main_stereo.py \\\n",
    "--inference_dir demo/stereo-middlebury \\\n",
    "--inference_size 1024 1536 \\\n",
    "--output_path output/gmstereo-scale2-regrefine3-middlebury \\\n",
    "--resume pretrained/gmstereo-scale2-regrefine3-resumeflowthings-middleburyfthighres-a82bec03.pth \\\n",
    "--padding_factor 32 \\\n",
    "--upsample_factor 4 \\\n",
    "--num_scales 2 \\\n",
    "--attn_type self_swin2d_cross_swin1d \\\n",
    "--attn_splits_list 2 8 \\\n",
    "--corr_radius_list -1 4 \\\n",
    "--prop_radius_list -1 1 \\\n",
    "--reg_refine \\\n",
    "--num_reg_refine 3"
   ]
  },
  {
   "cell_type": "code",
   "execution_count": null,
   "metadata": {
    "colab": {
     "base_uri": "https://localhost:8080/",
     "height": 303
    },
    "id": "YejH62gdFL8r",
    "outputId": "dfef0cff-a7fa-442b-96fa-d51a9840041e"
   },
   "outputs": [],
   "source": [
    "# visualize image and disparity\n",
    "img0_path = 'demo/stereo-middlebury/im0.png'\n",
    "img1_path = 'demo/stereo-middlebury/im1.png'\n",
    "disp_path = 'output/gmstereo-scale2-regrefine3-middlebury/im0_disp.png'\n",
    "\n",
    "img0, img1, disp = plt.imread(img0_path), plt.imread(img1_path), plt.imread(disp_path)\n",
    "vis_img(np.concatenate([img0, img1, disp], axis=1))"
   ]
  },
  {
   "cell_type": "markdown",
   "metadata": {
    "id": "q9DAZoPA9MfW"
   },
   "source": [
    "## Depth Estimation"
   ]
  },
  {
   "cell_type": "code",
   "execution_count": null,
   "metadata": {
    "colab": {
     "base_uri": "https://localhost:8080/"
    },
    "id": "IGp6Yx0CAGd3",
    "outputId": "b6f9f90a-bf92-4123-df32-920312c0295e"
   },
   "outputs": [],
   "source": [
    "# inference on posed images\n",
    "# script from: https://github.com/autonomousvision/unimatch/blob/master/scripts/gmdepth_demo.sh\n",
    "!python main_depth.py \\\n",
    "--inference_dir demo/depth-scannet \\\n",
    "--output_path output/gmdepth-scale1-regrefine1-scannet \\\n",
    "--resume pretrained/gmdepth-scale1-regrefine1-resumeflowthings-scannet-90325722.pth \\\n",
    "--reg_refine \\\n",
    "--num_reg_refine 1\n"
   ]
  },
  {
   "cell_type": "code",
   "execution_count": null,
   "metadata": {
    "colab": {
     "base_uri": "https://localhost:8080/",
     "height": 303
    },
    "id": "aKt0vY0FGiUA",
    "outputId": "52a10330-5df6-4d02-ba2b-acc2bbc20c0a"
   },
   "outputs": [],
   "source": [
    "# visualize image and depth\n",
    "img0_path = 'demo/depth-scannet/color/0048.png'\n",
    "img1_path = 'demo/depth-scannet/color/0054.png'\n",
    "depth_path = 'output/gmdepth-scale1-regrefine1-scannet/0048.png'\n",
    "\n",
    "img0, img1, depth = plt.imread(img0_path), plt.imread(img1_path), plt.imread(depth_path)\n",
    "vis_img(np.concatenate([img0, img1, depth], axis=1))"
   ]
  }
 ],
 "metadata": {
  "accelerator": "GPU",
  "colab": {
   "provenance": []
  },
  "gpuClass": "standard",
  "kernelspec": {
   "display_name": "Python 3 (ipykernel)",
   "language": "python",
   "name": "python3"
  },
  "language_info": {
   "codemirror_mode": {
    "name": "ipython",
    "version": 3
   },
   "file_extension": ".py",
   "mimetype": "text/x-python",
   "name": "python",
   "nbconvert_exporter": "python",
   "pygments_lexer": "ipython3",
   "version": "3.8.10"
  }
 },
 "nbformat": 4,
 "nbformat_minor": 4
}
