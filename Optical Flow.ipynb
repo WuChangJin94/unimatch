{
 "cells": [
  {
   "cell_type": "code",
   "execution_count": null,
   "metadata": {
    "colab": {
     "base_uri": "https://localhost:8080/"
    },
    "id": "Zj3mH_CY8s9x",
    "outputId": "10ef4222-d6e1-4fa9-cf85-33110b0f8b2d"
   },
   "outputs": [],
   "source": [
    "# check env\n",
    "import torch\n",
    "\n",
    "print('PyTorch version: %s' % torch.__version__)\n",
    "\n",
    "if not torch.cuda.is_available():\n",
    "  print('Running on CPU')\n",
    "else:\n",
    "  print('Running on GPU %s' % torch.cuda.get_device_name())"
   ]
  },
  {
   "cell_type": "code",
   "execution_count": null,
   "metadata": {
    "id": "ABlla2TL5G_2"
   },
   "outputs": [],
   "source": [
    "# visualization utils\n",
    "import numpy as np\n",
    "import matplotlib.pyplot as plt\n",
    "from IPython.display import Image, display, HTML\n",
    "from base64 import b64encode\n",
    "\n",
    "plt.rcParams[\"figure.figsize\"] = (30, 5)\n",
    "\n",
    "def vis_img(img):\n",
    "  plt.imshow(img)\n",
    "  plt.axis(\"off\")\n",
    "  plt.show()\n",
    "\n",
    "def vis_video(video_path):\n",
    "  mp4 = open(video_path,'rb').read()\n",
    "  data_url = \"data:video/mp4;base64,\" + b64encode(mp4).decode()\n",
    "  return HTML(\"\"\"\n",
    "  <video width=600 controls>\n",
    "        <source src=\"%s\" type=\"video/mp4\">\n",
    "  </video>\n",
    "  \"\"\" % data_url)"
   ]
  },
  {
   "cell_type": "code",
   "execution_count": 1,
   "metadata": {},
   "outputs": [
    {
     "name": "stdout",
     "output_type": "stream",
     "text": [
      "gmdepth-scale1-regrefine1-resumeflowthings-scannet-90325722.pth\n",
      "gmflow-scale2-regrefine6-kitti15-25b554d7.pth\n",
      "gmflow-scale2-regrefine6-mixdata-train320x576-4e7b215d.pth\n",
      "gmstereo-scale2-regrefine3-resumeflowthings-middleburyfthighres-a82bec03.pth\n"
     ]
    }
   ],
   "source": [
    "# check downloading\n",
    "%ls pretrained"
   ]
  },
  {
   "cell_type": "markdown",
   "metadata": {},
   "source": [
    "## Optical Flow Video"
   ]
  },
  {
   "cell_type": "code",
   "execution_count": null,
   "metadata": {},
   "outputs": [],
   "source": [
    "import os\n",
    "\n",
    "# directory containing the videos\n",
    "video_dir = \"demo/\"\n",
    "\n",
    "# get a list of all video files in the directory\n",
    "video_files = [f for f in os.listdir(video_dir) if f.endswith('.mp4')]\n",
    "\n",
    "for video_file in video_files:\n",
    "    # full path to the video file\n",
    "    video_path = os.path.join(video_dir, video_file)\n",
    "    \n",
    "    # output path\n",
    "    output_path = os.path.join(\"demo/output\", os.path.splitext(video_file)[0])\n",
    "    \n",
    "    # command to run the inference script\n",
    "    command = f\"\"\"python3 main_flow.py \\\n",
    "    --inference_video \"{video_path}\" \\\n",
    "    --resume pretrained/gmflow-scale2-regrefine6-kitti15-25b554d7.pth \\\n",
    "    --output_path \"{output_path}\" \\\n",
    "    --padding_factor 32 \\\n",
    "    --upsample_factor 4 \\\n",
    "    --num_scales 2 \\\n",
    "    --attn_splits_list 2 8 \\\n",
    "    --corr_radius_list -1 4 \\\n",
    "    --prop_radius_list -1 1 \\\n",
    "    --reg_refine \\\n",
    "    --num_reg_refine 6 \\\n",
    "    --save_img \\\n",
    "    --save_video\"\"\"\n",
    "    \n",
    "    # run the command\n",
    "    os.system(command)"
   ]
  }
 ],
 "metadata": {
  "accelerator": "GPU",
  "colab": {
   "provenance": []
  },
  "gpuClass": "standard",
  "kernelspec": {
   "display_name": "Python 3 (ipykernel)",
   "language": "python",
   "name": "python3"
  },
  "language_info": {
   "codemirror_mode": {
    "name": "ipython",
    "version": 3
   },
   "file_extension": ".py",
   "mimetype": "text/x-python",
   "name": "python",
   "nbconvert_exporter": "python",
   "pygments_lexer": "ipython3",
   "version": "3.8.10"
  }
 },
 "nbformat": 4,
 "nbformat_minor": 4
}
